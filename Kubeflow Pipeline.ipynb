{
 "cells": [
  {
   "cell_type": "markdown",
   "id": "8d7bf81f",
   "metadata": {},
   "source": [
    "# Building Kubeflow Pipeline"
   ]
  },
  {
   "cell_type": "code",
   "execution_count": null,
   "id": "a98c5d39",
   "metadata": {},
   "outputs": [],
   "source": [
    "#Installer Kubeflow\n",
    "!pip install kfp"
   ]
  },
  {
   "cell_type": "code",
   "execution_count": null,
   "id": "f8d2ad7e",
   "metadata": {},
   "outputs": [],
   "source": [
    "import kfp\n",
    "import kfp.components as comp"
   ]
  },
  {
   "cell_type": "code",
   "execution_count": null,
   "id": "ed7cdfc2",
   "metadata": {},
   "outputs": [],
   "source": [
    "# Creer un compte dans Docker\n",
    "!docker login -u oumaimafariss -p demo1234"
   ]
  },
  {
   "cell_type": "code",
   "execution_count": null,
   "id": "b0f9c5aa",
   "metadata": {},
   "outputs": [],
   "source": [
    "#créer image Docker \n",
    "!docker build -t ouamimafariss/target ."
   ]
  },
  {
   "cell_type": "code",
   "execution_count": null,
   "id": "0d150b6b",
   "metadata": {},
   "outputs": [],
   "source": [
    "#Déployer l'image Docker \n",
    "!docker push ouamimafariss/target"
   ]
  },
  {
   "cell_type": "markdown",
   "id": "0913b511",
   "metadata": {},
   "source": [
    "## Mise en place du pipeline Data\n"
   ]
  },
  {
   "cell_type": "code",
   "execution_count": null,
   "id": "ea1740ba",
   "metadata": {},
   "outputs": [],
   "source": [
    "# creation de component pour chaque etape du pipeline\n",
    "@kfp.dsl.component\n",
    "def etape1_data_pipeline():\n",
    "    # Defining component configuration\n",
    "    Etape1 = kfp.dsl.ContainerOp(\n",
    "        name='Clinical_trials_table',\n",
    "        image='ouamimafariss/target',\n",
    "        command=['python', 'Etape1_Clinical_trials.py'],\n",
    "        )\n",
    "    return Etape1"
   ]
  },
  {
   "cell_type": "code",
   "execution_count": null,
   "id": "119b3fd9",
   "metadata": {},
   "outputs": [],
   "source": [
    "# creation de component pour chaque etape du pipeline\n",
    "@kfp.dsl.component\n",
    "def etape2_data_pipeline():    \n",
    "    # Defining component configuration\n",
    "    Etape2 = kfp.dsl.ContainerOp(\n",
    "        name='pubMed_table',\n",
    "        image='ouamimafariss/target',\n",
    "        command=['python', 'Etape2_PubMed.py'],\n",
    "        )\n",
    "    return Etape2\n"
   ]
  },
  {
   "cell_type": "code",
   "execution_count": null,
   "id": "f47a5dc3",
   "metadata": {},
   "outputs": [],
   "source": [
    "# creation de component pour chaque etape du pipeline\n",
    "@kfp.dsl.component\n",
    "def etape3_data_pipeline():    \n",
    "    # Defining component configuration\n",
    "    Etape3 = kfp.dsl.ContainerOp(\n",
    "        name='Journal_table',\n",
    "        image='ouamimafariss/target',\n",
    "        command=['python', 'Etape3_Journal.py'],\n",
    "        )\n",
    "    return Etape3"
   ]
  },
  {
   "cell_type": "code",
   "execution_count": null,
   "id": "dfbfd266",
   "metadata": {},
   "outputs": [],
   "source": [
    "# creation de component pour chaque etape du pipeline\n",
    "@kfp.dsl.component\n",
    "def etape4_data_pipeline():\n",
    "    # Defining component configuration\n",
    "    Etape_final = kfp.dsl.ContainerOp(\n",
    "        name='table_finale',\n",
    "        image='ouamimafariss/target',\n",
    "        command=['python', 'Etape4_final_table.py'],\n",
    "        )\n",
    "    \n",
    "    return Etape_final"
   ]
  },
  {
   "cell_type": "markdown",
   "id": "3a75897d",
   "metadata": {},
   "source": [
    "## Final Kubeflow pipeline Definition"
   ]
  },
  {
   "cell_type": "code",
   "execution_count": null,
   "id": "8a6d94ba",
   "metadata": {},
   "outputs": [],
   "source": [
    "# Pipeline final\n",
    "@kfp.dsl.pipeline(\n",
    "  name=\"Kubeflow ML pipeline on drugs\",\n",
    "  description=\"Kubeflow ML pipeline on drugs\"\n",
    ")\n",
    "def pipeline():\n",
    "    pipeline_1 = etape1_data_pipeline()\n",
    "    pipeline_1.execution_options.caching_strategy.max_cache_staleness = \"P0D\"\n",
    "    pipeline_2 = etape2_data_pipeline().after(pipeline_1)\n",
    "    pipeline_2.execution_options.caching_strategy.max_cache_staleness = \"P0D\"\n",
    "    pipeline_3 = etape3_data_pipeline().after(pipeline_2)\n",
    "    pipeline_3.execution_options.caching_strategy.max_cache_staleness = \"P0D\"\n",
    "    pipeline_4 = etape3_data_pipeline().after(pipeline_3)\n",
    "    pipeline_4.execution_options.caching_strategy.max_cache_staleness = \"P0D\""
   ]
  },
  {
   "cell_type": "markdown",
   "id": "299e9445",
   "metadata": {},
   "source": [
    "## Connecte to deplyed Kubeflow pipeline Endpoint (GCP)"
   ]
  },
  {
   "cell_type": "code",
   "execution_count": null,
   "id": "b0766a39",
   "metadata": {},
   "outputs": [],
   "source": [
    "# Create kfp client\n",
    "client = kfp.Client(host='lien du gcp du client')"
   ]
  }
 ],
 "metadata": {
  "kernelspec": {
   "display_name": "Python 3 (ipykernel)",
   "language": "python",
   "name": "python3"
  },
  "language_info": {
   "codemirror_mode": {
    "name": "ipython",
    "version": 3
   },
   "file_extension": ".py",
   "mimetype": "text/x-python",
   "name": "python",
   "nbconvert_exporter": "python",
   "pygments_lexer": "ipython3",
   "version": "3.9.12"
  }
 },
 "nbformat": 4,
 "nbformat_minor": 5
}
